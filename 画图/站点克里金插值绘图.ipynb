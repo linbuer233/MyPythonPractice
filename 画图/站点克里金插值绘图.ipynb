{
 "cells": [
  {
   "cell_type": "code",
   "execution_count": 1,
   "metadata": {},
   "outputs": [],
   "source": [
    "import pandas as pd\n",
    "import matplotlib.pyplot as plt\n",
    "import numpy as np\n",
    "from matplotlib.font_manager import FontProperties\n",
    "from matplotlib import font_manager\n",
    "from matplotlib import rcParams\n",
    "\n",
    "plt.rcParams['font.sans-serif'] = ['SimHei']  # 防止无法显示中文并设置黑体\n",
    "plt.rcParams['axes.unicode_minus'] = False  # 用来正常显示负号\n",
    "\n",
    "TimesSong = FontProperties(fname=\"C:\\\\Users\\\\Linzy\\\\Desktop\\\\TimesSong.ttf\")\n",
    "font_manager.fontManager.addfont(\"C:\\\\Users\\\\Linzy\\\\Desktop\\\\TimesSong.ttf\")\n",
    "\n",
    "# 全局设置字体及大小，设置公式字体即可\n",
    "config = {\n",
    "    \"mathtext.fontset\": 'stix',\n",
    "    \"font.family\": 'serif',\n",
    "    \"font.serif\": ['TimesSong'],\n",
    "    'axes.unicode_minus': False,  # 处理负号，即-号\n",
    "    \"font.size\": 12\n",
    "}\n",
    "\n",
    "rcParams.update(config)"
   ]
  },
  {
   "cell_type": "code",
   "execution_count": 2,
   "metadata": {},
   "outputs": [],
   "source": [
    "fulidf=pd.read_excel('./xianClimate.xlsx')\n",
    "fulidf=fulidf[fulidf['年(年)'].isin(range(2009,2023,1))]\n",
    "fulidf=fulidf.replace(999999,np.nan)\n",
    "fulidf=fulidf.replace(999990.0,np.nan)\n",
    "fulidf=fulidf.replace(999998.0,np.nan)"
   ]
  },
  {
   "cell_type": "code",
   "execution_count": 3,
   "metadata": {},
   "outputs": [],
   "source": [
    "staname=fulidf['站名'].drop_duplicates().reset_index(drop=True)"
   ]
  },
  {
   "cell_type": "code",
   "execution_count": 4,
   "metadata": {},
   "outputs": [],
   "source": [
    "import json\n",
    "with open(\"D:\\\\_work\\\\project\\\\HZYWsystem\\\\statics\\\\webgis\\\\map\\\\qyqxsta.json\") as f:\n",
    "    qydata=json.load(f)\n",
    "with open(\"D:\\\\_work\\\\project\\\\HZYWsystem\\\\statics\\\\webgis\\\\map\\\\guoqxsta.json\") as f:\n",
    "    guojiadata=json.load(f)"
   ]
  },
  {
   "cell_type": "code",
   "execution_count": null,
   "metadata": {},
   "outputs": [],
   "source": [
    "qyname=list(qydata['A3'].values())\n",
    "qyname"
   ]
  },
  {
   "cell_type": "code",
   "execution_count": null,
   "metadata": {},
   "outputs": [],
   "source": [
    "lonqy=list(qydata['A5'].values())\n",
    "lonqy"
   ]
  },
  {
   "cell_type": "code",
   "execution_count": null,
   "metadata": {},
   "outputs": [],
   "source": [
    "latqy=list(qydata['A6'].values())\n",
    "latqy"
   ]
  },
  {
   "cell_type": "code",
   "execution_count": 9,
   "metadata": {},
   "outputs": [],
   "source": [
    "def backTrrain(fulidf,staname_i):    \n",
    "    fulidf1=fulidf[fulidf['站名']==staname_i].reset_index()\n",
    "    T=fulidf1['平均气温(摄氏度(℃))'].mean(skipna=True)\n",
    "    ymin=fulidf1['年(年)'].min()\n",
    "    ymax=fulidf1['年(年)'].max()\n",
    "    rainlist=[]\n",
    "    for i in range(ymin,ymax+1,1):\n",
    "        rainlist.append(fulidf1[fulidf1['年(年)']==i]['20-20时降水量(毫米)'].sum())\n",
    "    rain=np.mean(rainlist).round(2)\n",
    "    return T,rain"
   ]
  },
  {
   "cell_type": "code",
   "execution_count": null,
   "metadata": {},
   "outputs": [],
   "source": [
    "alllist=[]\n",
    "for i in staname:\n",
    "    T,rain=backTrrain(fulidf,i)\n",
    "    alllist.append([i,T,rain])\n",
    "alllist"
   ]
  },
  {
   "cell_type": "code",
   "execution_count": null,
   "metadata": {},
   "outputs": [],
   "source": [
    "fulidf1=fulidf[fulidf['站名']=='富川福利气象观测站'].reset_index()\n",
    "fulidf1['年(年)'].min(),fulidf1['年(年)'].max()"
   ]
  },
  {
   "cell_type": "code",
   "execution_count": 12,
   "metadata": {},
   "outputs": [],
   "source": [
    "fcdatadf=pd.DataFrame(alllist,columns=['staname', 'T', 'rain'])"
   ]
  },
  {
   "cell_type": "code",
   "execution_count": null,
   "metadata": {},
   "outputs": [],
   "source": [
    "indexsta=[]\n",
    "for i in fcdatadf['staname'][1:]:\n",
    "    indexsta.append(qyname.index(i))\n",
    "indexsta"
   ]
  },
  {
   "cell_type": "code",
   "execution_count": null,
   "metadata": {},
   "outputs": [],
   "source": [
    "lonlist=[]\n",
    "latlist=[]\n",
    "lonlist.append(list(guojiadata['A5'].values())[0])\n",
    "latlist.append(list(guojiadata['A6'].values())[0])\n",
    "for i in indexsta:\n",
    "    lonlist.append(lonqy[i])\n",
    "    latlist.append(latqy[i])\n",
    "lonlist"
   ]
  },
  {
   "cell_type": "code",
   "execution_count": null,
   "metadata": {},
   "outputs": [],
   "source": [
    "fcdatadf['lon']=lonlist\n",
    "fcdatadf['lat']=latlist\n",
    "fcdatadf"
   ]
  },
  {
   "cell_type": "code",
   "execution_count": 16,
   "metadata": {},
   "outputs": [],
   "source": [
    "Tfc=fcdatadf[fcdatadf['T']>0]"
   ]
  },
  {
   "cell_type": "markdown",
   "metadata": {},
   "source": [
    "# 插值"
   ]
  },
  {
   "cell_type": "code",
   "execution_count": 17,
   "metadata": {},
   "outputs": [],
   "source": [
    "from scipy.interpolate import griddata\n",
    "from metpy.interpolate import inverse_distance_to_grid\n",
    "import matplotlib.ticker as ticker\n",
    "import matplotlib.patches as mpatches\n",
    "import cartopy.crs as ccrs\n",
    "from cartopy.io.shapereader import Reader\n",
    "import cartopy.feature as cfeature\n",
    "from cartopy.mpl.ticker import LongitudeFormatter, LatitudeFormatter\n",
    "# 插值\n",
    "from pykrige import OrdinaryKriging\n",
    "### 白化关键包\n",
    "import geopandas as gpd\n",
    "from matplotlib.path import Path\n",
    "from cartopy.mpl.patch import geos_to_path"
   ]
  },
  {
   "cell_type": "code",
   "execution_count": null,
   "metadata": {},
   "outputs": [],
   "source": [
    "shp=gpd.read_file(r\"D:\\_work\\mapdata\\fuchuan\\geojson.shp\",encoding='UTF-8')\n",
    "shp"
   ]
  },
  {
   "cell_type": "code",
   "execution_count": null,
   "metadata": {},
   "outputs": [],
   "source": [
    "np.array(list(shp['geometry'][0].exterior.coords))[:,1].min()"
   ]
  },
  {
   "cell_type": "code",
   "execution_count": 20,
   "metadata": {},
   "outputs": [],
   "source": [
    "def add_north(ax, labelsize=12, loc_x=0.05, loc_y=1.07, width=0.03, height=0.045, pad=0.14):\n",
    "    \"\"\"\n",
    "    画一个比例尺带'N'文字注释\n",
    "    主要参数如下\n",
    "    :param ax: 要画的坐标区域 Axes实例 plt.gca()获取即可\n",
    "    :param labelsize: 显示'N'文字的大小\n",
    "    :param loc_x: 以文字下部为中心的占整个ax横向比例\n",
    "    :param loc_y: 以文字下部为中心的占整个ax纵向比例\n",
    "    :param width: 指南针占ax比例宽度\n",
    "    :param height: 指南针占ax比例高度\n",
    "    :param pad: 文字符号占ax比例间隙\n",
    "    :return: None\n",
    "    \"\"\"\n",
    "    minx, maxx = ax.get_xlim()\n",
    "    miny, maxy = ax.get_ylim()\n",
    "    ylen = maxy - miny\n",
    "    xlen = maxx - minx\n",
    "    left = [minx + xlen*(loc_x - width*.5), miny + ylen*(loc_y - pad)]\n",
    "    right = [minx + xlen*(loc_x + width*.5), miny + ylen*(loc_y - pad)]\n",
    "    top = [minx + xlen*loc_x, miny + ylen*(loc_y - pad + height)]\n",
    "    center = [minx + xlen*loc_x, left[1] + (top[1] - left[1])*.4]\n",
    "    triangle = mpatches.Polygon([left, top, right, center], color='k')\n",
    "    ax.text(s='N',\n",
    "            x=minx + xlen*loc_x,\n",
    "            y=miny + ylen*(loc_y - pad + height),\n",
    "            fontsize=labelsize,\n",
    "            horizontalalignment='center',\n",
    "            verticalalignment='bottom')\n",
    "    ax.add_patch(triangle)\n"
   ]
  },
  {
   "cell_type": "code",
   "execution_count": 21,
   "metadata": {},
   "outputs": [
    {
     "data": {
      "image/png": "[encoded data removed]",
      "text/html": [
       "<div style=\"vertical-align: middle;\"><strong>trunc(Blues,0.40,1.00)</strong> </div><div class=\"cmap\"><img alt=\"trunc(Blues,0.40,1.00) colormap\" title=\"trunc(Blues,0.40,1.00)\" style=\"border: 1px solid #555;\" src=\"data:image/png;base64,iVBORw0KGgoAAAANSUhEUgAAAgAAAABACAYAAABsv8+/AAAAJXRFWHRUaXRsZQB0cnVuYyhCbHVlcywwLjQwLDEuMDApIGNvbG9ybWFwN9RTMQAAACt0RVh0RGVzY3JpcHRpb24AdHJ1bmMoQmx1ZXMsMC40MCwxLjAwKSBjb2xvcm1hcLemzgAAAAAwdEVYdEF1dGhvcgBNYXRwbG90bGliIHYzLjcuMSwgaHR0cHM6Ly9tYXRwbG90bGliLm9yZyqv+E0AAAAydEVYdFNvZnR3YXJlAE1hdHBsb3RsaWIgdjMuNy4xLCBodHRwczovL21hdHBsb3RsaWIub3JnBAlnagAAAfdJREFUeJzt1k1awjAUhtHq/mduyXW4lMYJoL3h0qg4+s6ZaEvzQ0Cf9+Xt/WNs34zL1ajXl1/26f5tZDNuO4y73hiHUfPzo8x3/WWf9nfY/oP1R7PO/X3Vdba6r+6cun2djD+bfzq38rl098v0/Trl/rTvss7p+1r8Xszj7q//dd3Mt7rv1c+p3UdzbmOU59aen55++nwnn8t0vvfn6/bz8/N71nx1YJ23eb5+X7rrk/Ncfe7f9r04/ln7Xj6n23X9Q9vL/ebn9P6ur+/luW69Zr7pH8Av57u9XsZP85/tq1tvP1z+fb7H5/u6AQBxBAAABBIAABBIAABAIAEAAIEEAAAEEgAAEEgAAEAgAQAAgQQAAAQSAAAQSAAAQCABAACBBAAABBIAABBIAABAIAEAAIEEAAAEEgAAEEgAAEAgAQAAgQQAAAQSAAAQSAAAQCABAACBBAAABBIAABBIAABAIAEAAIEEAAAEEgAAEEgAAEAgAQAAgQQAAAQSAAAQSAAAQCABAACBBAAABBIAABBIAABAIAEAAIEEAAAEEgAAEEgAAEAgAQAAgQQAAAQSAAAQSAAAQCABAACBBAAABBIAABBIAABAIAEAAIEEAAAEEgAAEEgAAEAgAQAAgQQAAAQSAAAQSAAAQCABAACBBAAABBIAABDoE7AyijFEs2XjAAAAAElFTkSuQmCC\"></div><div style=\"vertical-align: middle; max-width: 514px; display: flex; justify-content: space-between;\"><div style=\"float: left;\"><div title=\"#94c4dfff\" style=\"display: inline-block; width: 1em; height: 1em; margin: 0; vertical-align: middle; border: 1px solid #555; background-color: #94c4dfff;\"></div> under</div><div style=\"margin: 0 auto; display: inline-block;\">bad <div title=\"#00000000\" style=\"display: inline-block; width: 1em; height: 1em; margin: 0; vertical-align: middle; border: 1px solid #555; background-color: #00000000;\"></div></div><div style=\"float: right;\">over <div title=\"#08306bff\" style=\"display: inline-block; width: 1em; height: 1em; margin: 0; vertical-align: middle; border: 1px solid #555; background-color: #08306bff;\"></div></div>"
      ],
      "text/plain": [
       "<matplotlib.colors.LinearSegmentedColormap at 0x2bd3e05d5d0>"
      ]
     },
     "execution_count": 21,
     "metadata": {},
     "output_type": "execute_result"
    }
   ],
   "source": [
    "import matplotlib.colors as colors\n",
    "import matplotlib.pyplot as plt\n",
    "import numpy as np\n",
    "\n",
    "def truncate_colormap(cmap, minval=0.0, maxval=1.0, n=100):\n",
    "    new_cmap = colors.LinearSegmentedColormap.from_list(\n",
    "        \"trunc({n},{a:.2f},{b:.2f})\".format(n=cmap.name, a=minval, b=maxval),\n",
    "        cmap(np.linspace(minval, maxval, n)),\n",
    "    )\n",
    "    return new_cmap\n",
    "cmap = plt.get_cmap(\"Blues\")\n",
    "trunc_cmap1 = truncate_colormap(cmap, 0.4, 1)\n",
    "trunc_cmap1"
   ]
  },
  {
   "cell_type": "code",
   "execution_count": null,
   "metadata": {},
   "outputs": [],
   "source": [
    "extent=[110.99778373704645,111.56357963548395,24.461242833894357,25.129462933561904]\n",
    "lon_target = np.arange(111.08795,111.515133,0.001)\n",
    "lat_target = np.arange(24.593434,25.18245,0.001)\n",
    "x_t, y_t = np.meshgrid(lon_target, lat_target)\n",
    "# model=OrdinaryKriging(fcdatadf['lon'].values,fcdatadf['lat'].values,fcdatadf['rain'].values,variogram_model='gaussian',nlags=500)\n",
    "model=OrdinaryKriging(fcdatadf['lon'].values,fcdatadf['lat'].values,fcdatadf['rain'].values,variogram_model='linear',nlags=100)\n",
    "ds1,ds2=model.execute('grid',lon_target,lat_target)\n",
    "ds1=np.round(ds1,3)\n",
    "\n",
    "fig=plt.figure(figsize=(9,16))\n",
    "ax=fig.add_axes([0.1,0.1,0.8,0.8],projection=ccrs.PlateCarree())\n",
    "ax1=fig.add_axes([0.11,0.20,0.04,0.15])\n",
    "ax2=fig.add_axes([0.79,0.75,0.05*(16/9),0.05])\n",
    "ax2.set_axis_off()\n",
    "ax3=fig.add_axes([0.59,0.195,0.18*(16/9),0.025])\n",
    "ax3.set_axis_off()\n",
    "# arrimg=plt.imread(r\"C:\\Users\\Linzy\\Desktop\\chinaclimate.png\")\n",
    "arrimg=plt.imread(r\"C:\\Users\\Linzy\\Desktop\\图片231201(1)(1).png\")\n",
    "# arrimg1=plt.imread(r\"C:\\Users\\Linzy\\Desktop\\bili.png\")\n",
    "arrimg1=plt.imread(r\"C:\\Users\\Linzy\\Downloads\\IMG_202312015885_719x126.png\")\n",
    "ax2.imshow(arrimg)\n",
    "ax3.imshow(arrimg1)\n",
    "ax.add_geometries(Reader(r\"D:\\_work\\mapdata\\fuchuan\\geojson.shp\").geometries(),ccrs.PlateCarree(),facecolor='none', edgecolor='b', linewidth=0.8)\n",
    "color=ax.contourf(x_t,y_t,ds1,levels=np.linspace(1420,1800,50),cmap=trunc_cmap1,transform=ccrs.PlateCarree())\n",
    "\n",
    "for i in range(0,len(fcdatadf),1):\n",
    "    ha='left'\n",
    "    staname=fcdatadf['staname'].values[i][2:-5]\n",
    "    if i==0:\n",
    "        staname=fcdatadf['staname'].values[i][2:]\n",
    "        ha='right'\n",
    "    if i in [22,23,25]:\n",
    "        staname=fcdatadf['staname'].values[i][2:-7]\n",
    "    if i in [2,22,27,21]:\n",
    "        ha='right'\n",
    "\n",
    "    ax.scatter(fcdatadf['lon'].values[i],fcdatadf['lat'].values[i],color='black',transform=ccrs.PlateCarree())\n",
    "    ax.text(fcdatadf['lon'].values[i],fcdatadf['lat'].values[i],staname,ha=ha,color='black',transform=ccrs.PlateCarree())\n",
    "\n",
    "# cb.ax.get_xaxis().get_major_formatter().set_scientific(False)\n",
    "## 关键操作：生成裁剪路径\n",
    "path_clip =Path.make_compound_path(*geos_to_path(shp['geometry'].to_list()))\n",
    "## 关键操作：将裁剪路径应用到图层\n",
    "for collection in color.collections:\n",
    "    collection.set_clip_path(path_clip,transform=ax.transData)\n",
    "cb=fig.colorbar(color,ticks=np.linspace(1420,1800,5),cax=ax1)\n",
    "cb.formatter = ticker.ScalarFormatter(useMathText=False)\n",
    "cb.ax.set_title('降水量\\nmm',fontdict={'size':10})\n",
    "cb.update_ticks()\n",
    "add_north(ax)\n",
    "# add_scalebar(ax)\n",
    "fig.savefig('./jiangshuiFC1.png',dpi=800,facecolor='white',bbox_inches='tight')\n",
    "ds1.min(),ds1.max()"
   ]
  },
  {
   "cell_type": "code",
   "execution_count": null,
   "metadata": {},
   "outputs": [],
   "source": [
    "np.linspace(1420,1800,5)"
   ]
  },
  {
   "cell_type": "code",
   "execution_count": null,
   "metadata": {},
   "outputs": [],
   "source": [
    "Tfc.reset_index()"
   ]
  },
  {
   "cell_type": "code",
   "execution_count": 31,
   "metadata": {},
   "outputs": [
    {
     "data": {
      "image/png": "[encoded data removed]",
      "text/html": [
       "<div style=\"vertical-align: middle;\"><strong>trunc(jet,0.40,0.80)</strong> </div><div class=\"cmap\"><img alt=\"trunc(jet,0.40,0.80) colormap\" title=\"trunc(jet,0.40,0.80)\" style=\"border: 1px solid #555;\" src=\"data:image/png;base64,iVBORw0KGgoAAAANSUhEUgAAAgAAAABACAYAAABsv8+/AAAAI3RFWHRUaXRsZQB0cnVuYyhqZXQsMC40MCwwLjgwKSBjb2xvcm1hcKyxh1oAAAApdEVYdERlc2NyaXB0aW9uAHRydW5jKGpldCwwLjQwLDAuODApIGNvbG9ybWFw4fVRxAAAADB0RVh0QXV0aG9yAE1hdHBsb3RsaWIgdjMuNy4xLCBodHRwczovL21hdHBsb3RsaWIub3JnKq/4TQAAADJ0RVh0U29mdHdhcmUATWF0cGxvdGxpYiB2My43LjEsIGh0dHBzOi8vbWF0cGxvdGxpYi5vcmcECWdqAAABlUlEQVR4nO3WUU7CQBRA0Qeuxv2vwyXR+kExsYRoNIDxnvMzGd6knZB+3MPr+rbOzBxmnc/rMjMzx6vfzX8yf5nTtl8+rY++1+33/nb+t/7v/z7ff0eX7+vZ93r4fN3m62W/W5cb8+Wyn/P8fOxjf9jtj9u6XWdmd25uzK/23z13r+d8de6ynnbrs+/l/Xd5znEAgBwBAABBAgAAggQAAAQJAAAIEgAAECQAACBIAABAkAAAgCABAABBAgAAggQAAAQJAAAIEgAAECQAACBIAABAkAAAgCABAABBAgAAggQAAAQJAAAIEgAAECQAACBIAABAkAAAgCABAABBAgAAggQAAAQJAAAIEgAAECQAACBIAABAkAAAgCABAABBAgAAggQAAAQJAAAIEgAAECQAACBIAABAkAAAgCABAABBAgAAggQAAAQJAAAIEgAAECQAACBIAABAkAAAgCABAABBAgAAggQAAAQJAAAIEgAAECQAACBIAABAkAAAgCABAABBAgAAggQAAAQJAAAIEgAAECQAACDoHVm0CfRALSDmAAAAAElFTkSuQmCC\"></div><div style=\"vertical-align: middle; max-width: 514px; display: flex; justify-content: space-between;\"><div style=\"float: left;\"><div title=\"#29ffceff\" style=\"display: inline-block; width: 1em; height: 1em; margin: 0; vertical-align: middle; border: 1px solid #555; background-color: #29ffceff;\"></div> under</div><div style=\"margin: 0 auto; display: inline-block;\">bad <div title=\"#00000000\" style=\"display: inline-block; width: 1em; height: 1em; margin: 0; vertical-align: middle; border: 1px solid #555; background-color: #00000000;\"></div></div><div style=\"float: right;\">over <div title=\"#ff6800ff\" style=\"display: inline-block; width: 1em; height: 1em; margin: 0; vertical-align: middle; border: 1px solid #555; background-color: #ff6800ff;\"></div></div>"
      ],
      "text/plain": [
       "<matplotlib.colors.LinearSegmentedColormap at 0x2bd3a5f62f0>"
      ]
     },
     "execution_count": 31,
     "metadata": {},
     "output_type": "execute_result"
    }
   ],
   "source": [
    "cmap = plt.get_cmap(\"jet\")\n",
    "trunc_cmap = truncate_colormap(cmap, 0.4, 0.8)\n",
    "trunc_cmap"
   ]
  },
  {
   "cell_type": "code",
   "execution_count": null,
   "metadata": {},
   "outputs": [],
   "source": [
    "extent=[110.99778373704645,111.56357963548395,24.461242833894357,25.129462933561904]\n",
    "lon_target = np.arange(111.08795,111.515133,0.001)\n",
    "lat_target = np.arange(24.593434,25.18245,0.001)\n",
    "x_t, y_t = np.meshgrid(lon_target, lat_target)\n",
    "# model=OrdinaryKriging(Tfc['lon'].values,Tfc['lat'].values,Tfc['T'].values,variogram_model='gaussian',nlags=100)\n",
    "model=OrdinaryKriging(Tfc['lon'].values,Tfc['lat'].values,Tfc['T'].values,variogram_model='linear',nlags=50)\n",
    "# model=OrdinaryKriging(fcdatadf['lon'].values,fcdatadf['lat'].values,fcdatadf['rain'].values,variogram_model='linear',nlags=1)\n",
    "ds1,ds2=model.execute('grid',lon_target,lat_target)\n",
    "ds1=np.round(ds1,3)\n",
    "\n",
    "fig=plt.figure(figsize=(9,16))\n",
    "ax=fig.add_axes([0.1,0.1,0.8,0.8],projection=ccrs.PlateCarree())\n",
    "ax1=fig.add_axes([0.11,0.20,0.04,0.15])\n",
    "ax2=fig.add_axes([0.79,0.75,0.05*(16/9),0.05])\n",
    "ax2.set_axis_off()\n",
    "ax3=fig.add_axes([0.59,0.195,0.18*(16/9),0.025])\n",
    "ax3.set_axis_off()\n",
    "# arrimg=plt.imread(r\"C:\\Users\\Linzy\\Desktop\\chinaclimate.png\")\n",
    "arrimg=plt.imread(r\"C:\\Users\\Linzy\\Desktop\\图片231201(1)(1).png\")\n",
    "# arrimg1=plt.imread(r\"C:\\Users\\Linzy\\Desktop\\bili.png\")\n",
    "arrimg1=plt.imread(r\"C:\\Users\\Linzy\\Downloads\\IMG_202312015885_719x126.png\")\n",
    "ax2.imshow(arrimg)\n",
    "ax3.imshow(arrimg1)\n",
    "ax.add_geometries(Reader(r\"D:\\_work\\mapdata\\fuchuan\\geojson.shp\").geometries(),ccrs.PlateCarree(),facecolor='none', edgecolor='b', linewidth=0.8)\n",
    "color=ax.contourf(x_t,y_t,ds1,levels=np.linspace(18,21,70),cmap=trunc_cmap,transform=ccrs.PlateCarree())\n",
    "\n",
    "for i in range(0,len(Tfc),1):\n",
    "    staname=Tfc['staname'].values[i][2:-5]\n",
    "    ha='left'\n",
    "    if i==0:\n",
    "        staname=Tfc['staname'].values[i][2:]\n",
    "        ha='right'\n",
    "    if i in [8,9,11]:\n",
    "         staname=Tfc['staname'].values[i][2:-7]\n",
    "    if i in [13]:\n",
    "        ha='right'\n",
    "\n",
    "    ax.scatter(Tfc['lon'].values[i],Tfc['lat'].values[i],color='black',transform=ccrs.PlateCarree())\n",
    "    ax.text(Tfc['lon'].values[i],Tfc['lat'].values[i],staname,ha=ha,color='black',transform=ccrs.PlateCarree())\n",
    "\n",
    "\n",
    "## 关键操作：生成裁剪路径\n",
    "path_clip =Path.make_compound_path(*geos_to_path(shp['geometry'].to_list()))\n",
    "## 关键操作：将裁剪路径应用到图层\n",
    "for collection in color.collections:\n",
    "    collection.set_clip_path(path_clip,transform=ax.transData)\n",
    "cb=fig.colorbar(color,ticks=np.linspace(18,21,4),cax=ax1)\n",
    "cb.formatter = ticker.ScalarFormatter(useMathText=False)\n",
    "cb.ax.set_title('温度\\n℃',fontdict={'size':10})\n",
    "cb.update_ticks()\n",
    "add_north(ax)\n",
    "fig.savefig('./wenduFC1.png',dpi=800,facecolor='white',bbox_inches='tight')\n",
    "ds1.min(),ds1.max()"
   ]
  },
  {
   "cell_type": "code",
   "execution_count": 27,
   "metadata": {},
   "outputs": [
    {
     "data": {
      "text/plain": [
       "<BarContainer object of 3 artists>"
      ]
     },
     "execution_count": 27,
     "metadata": {},
     "output_type": "execute_result"
    },
    {
     "data": {
      "image/png": "[encoded data removed]",
      "text/plain": [
       "<Figure size 640x480 with 4 Axes>"
      ]
     },
     "metadata": {},
     "output_type": "display_data"
    }
   ],
   "source": [
    "plt.subplots(1,2,dpi=100)\n",
    "plt.subplot(121)\n",
    "plt.plot([1,2,3])\n",
    "\n",
    "\n",
    "plt.subplot(122)\n",
    "plt.plot([1,2,3])\n",
    "\n",
    "\n",
    "\n",
    "plt.axes([0.7, 0.2, 0.15, 0.15], ## [left, bottom, width, height]四个参数(fractions of figure)可以非常灵活的调节子图中子图的位置     \n",
    "        )\n",
    "plt.bar([1,2,3],[1,2,3],color=['r','b','g'])\n",
    "\n",
    "\n",
    "plt.axes([0.2, 0.7, 0.15, 0.15], \n",
    "        )\n",
    "plt.bar([1,2,3],[1,2,3],color=['r','b','g'])"
   ]
  },
  {
   "cell_type": "code",
   "execution_count": null,
   "metadata": {},
   "outputs": [],
   "source": []
  }
 ],
 "metadata": {
  "kernelspec": {
   "display_name": "py310",
   "language": "python",
   "name": "python3"
  },
  "language_info": {
   "codemirror_mode": {
    "name": "ipython",
    "version": 3
   },
   "file_extension": ".py",
   "mimetype": "text/x-python",
   "name": "python",
   "nbconvert_exporter": "python",
   "pygments_lexer": "ipython3",
   "version": "3.10.12"
  }
 },
 "nbformat": 4,
 "nbformat_minor": 2
}
