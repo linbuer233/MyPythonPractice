{
 "cells": [
  {
   "cell_type": "code",
   "execution_count": 3,
   "outputs": [],
   "source": [
    "import pandas as pd\n",
    "import pint\n",
    "from metpy.units import units\n",
    "from scipy import stats\n",
    "from xgrads import *\n",
    "import numpy as np  # 调用numpy\n",
    "import xarray as xr\n",
    "from math import *\n",
    "import matplotlib.pyplot as plt\n",
    "import cartopy.crs as ccrs\n",
    "from cartopy.mpl.ticker import LongitudeFormatter, LatitudeFormatter"
   ],
   "metadata": {
    "collapsed": false,
    "pycharm": {
     "name": "#%%\n"
    }
   }
  },
  {
   "cell_type": "code",
   "execution_count": 2,
   "outputs": [],
   "source": [
    "all = xr.open_dataset(r'D:\\python\\tianzhen\\shixi3_4\\ds_hgt_t_uv.nc')\n",
    "rh_all = xr.open_dataset(r'D:\\python\\tianzhen\\shixi3_4\\ds_rh.nc')\n",
    "hgt = all['hgt'][:, :, :, :]\n",
    "Temp = all['t'][:, :, :, :]\n",
    "rh = rh_all['rh'][:, :, :, :]\n",
    "lon = all['lon'][:]\n",
    "lat = all['lat'][:]\n",
    "time = all['time'][:]"
   ],
   "metadata": {
    "collapsed": false,
    "pycharm": {
     "name": "#%%\n"
    }
   }
  },
  {
   "cell_type": "markdown",
   "source": [],
   "metadata": {
    "collapsed": false
   }
  },
  {
   "cell_type": "code",
   "execution_count": 8,
   "outputs": [
    {
     "name": "stdout",
     "output_type": "stream",
     "text": [
      "2021-07-17 08:00:00\n",
      "2021071708\n"
     ]
    }
   ],
   "source": [
    "\n",
    "t1 = pd.date_range(start='2021-07-17 08', periods=24, freq='6H')\n",
    "a = str(t1[0])\n",
    "print(a)\n",
    "a = a[:4] + a[5:7] + a[8:10] + a[11:13]\n",
    "print(a)"
   ],
   "metadata": {
    "collapsed": false,
    "pycharm": {
     "name": "#%%\n"
    }
   }
  },
  {
   "cell_type": "code",
   "execution_count": 43,
   "outputs": [],
   "source": [
    "a = 6 * units.m\n"
   ],
   "metadata": {
    "collapsed": false,
    "pycharm": {
     "name": "#%%\n"
    }
   }
  },
  {
   "cell_type": "code",
   "execution_count": 48,
   "outputs": [
    {
     "name": "stdout",
     "output_type": "stream",
     "text": [
      "6.0\n"
     ]
    },
    {
     "data": {
      "text/plain": "float"
     },
     "execution_count": 48,
     "metadata": {},
     "output_type": "execute_result"
    }
   ],
   "source": [
    "b = float(a.m)\n",
    "print(b)\n",
    "type(b)"
   ],
   "metadata": {
    "collapsed": false,
    "pycharm": {
     "name": "#%%\n"
    }
   }
  },
  {
   "cell_type": "code",
   "execution_count": null,
   "outputs": [],
   "source": [],
   "metadata": {
    "collapsed": false,
    "pycharm": {
     "name": "#%%\n"
    }
   }
  }
 ],
 "metadata": {
  "kernelspec": {
   "display_name": "Python 3",
   "language": "python",
   "name": "python3"
  },
  "language_info": {
   "codemirror_mode": {
    "name": "ipython",
    "version": 2
   },
   "file_extension": ".py",
   "mimetype": "text/x-python",
   "name": "python",
   "nbconvert_exporter": "python",
   "pygments_lexer": "ipython2",
   "version": "2.7.6"
  }
 },
 "nbformat": 4,
 "nbformat_minor": 0
}